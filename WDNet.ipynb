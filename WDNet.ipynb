{
 "nbformat": 4,
 "nbformat_minor": 0,
 "metadata": {
  "colab": {
   "name": "WDNet.ipynb",
   "provenance": [],
   "authorship_tag": "ABX9TyMUc408IqwD306E2kR/fEeL"
  },
  "kernelspec": {
   "name": "python3",
   "display_name": "Python 3"
  },
  "language_info": {
   "name": "python"
  },
  "accelerator": "GPU"
 },
 "cells": [
  {
   "cell_type": "markdown",
   "metadata": {
    "id": "mLaRdMtbY_L-"
   },
   "source": [
    "1. ./cache/trainData/source : 모아레 패턴 이미지\n",
    "   ./cache/trainData/target : 스크린샷 이미지\n",
    "\n",
    "2. Training (training_wdnet.py에서 training option 설정 가능)\n",
    "\n",
    "3. ./cache/testData 에 처리할 이미지 삽입\n",
    "\n",
    "4. RUN\n",
    "\n",
    "5. 결과는 test_result 폴더"
   ]
  },
  {
   "cell_type": "code",
   "metadata": {
    "id": "la9VE0JDxbfL"
   },
   "source": [
    "#Traning\n",
    "!python training_wdnet.py"
   ],
   "execution_count": null,
   "outputs": []
  },
  {
   "cell_type": "code",
   "metadata": {
    "id": "W6GpRxtX6Sd2"
   },
   "source": [
    "#Run\n",
    "!python predict_TIP2018.py --input ./cache/testData/source.png"
   ],
   "execution_count": null,
   "outputs": []
  }
 ]
}